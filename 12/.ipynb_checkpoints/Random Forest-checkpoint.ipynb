{
 "cells": [
  {
   "cell_type": "code",
   "execution_count": 2,
   "id": "ed413fa8",
   "metadata": {},
   "outputs": [],
   "source": [
    "import pandas as pd\n",
    "import numpy as np\n",
    "#%%  import data\n",
    "\n",
    "data = pd.read_csv(\"data.csv\")\n",
    "data.drop([\"id\",\"Unnamed: 32\"],axis=1,inplace = True)"
   ]
  },
  {
   "cell_type": "code",
   "execution_count": 3,
   "id": "d8170b6c",
   "metadata": {},
   "outputs": [
    {
     "name": "stderr",
     "output_type": "stream",
     "text": [
      "C:\\ProgramData\\Anaconda3\\lib\\site-packages\\numpy\\core\\fromnumeric.py:85: FutureWarning: In a future version, DataFrame.min(axis=None) will return a scalar min over the entire DataFrame. To retain the old behavior, use 'frame.min(axis=0)' or just 'frame.min()'\n",
      "  return reduction(axis=axis, out=out, **passkwargs)\n",
      "C:\\ProgramData\\Anaconda3\\lib\\site-packages\\numpy\\core\\fromnumeric.py:85: FutureWarning: In a future version, DataFrame.max(axis=None) will return a scalar max over the entire DataFrame. To retain the old behavior, use 'frame.max(axis=0)' or just 'frame.max()'\n",
      "  return reduction(axis=axis, out=out, **passkwargs)\n"
     ]
    }
   ],
   "source": [
    "# %%\n",
    "data.diagnosis = [ 1 if each == \"M\" else 0 for each in data.diagnosis]\n",
    "y = data.diagnosis.values\n",
    "x_data = data.drop([\"diagnosis\"],axis=1)\n",
    "#%% normalization\n",
    "\n",
    "x = (x_data - np.min(x_data))/(np.max(x_data)-np.min(x_data))"
   ]
  },
  {
   "cell_type": "code",
   "execution_count": 4,
   "id": "afc266c0",
   "metadata": {},
   "outputs": [],
   "source": [
    "# %% train test split\n",
    "from sklearn.model_selection import train_test_split\n",
    "x_train, x_test,y_train, y_test = train_test_split(x,y,test_size = 0.15,random_state = 42)"
   ]
  },
  {
   "cell_type": "code",
   "execution_count": 29,
   "id": "bdc31b03",
   "metadata": {},
   "outputs": [
    {
     "name": "stdout",
     "output_type": "stream",
     "text": [
      "decision tree score:  0.9186046511627907\n"
     ]
    }
   ],
   "source": [
    "#%% decision tree\n",
    "from sklearn.tree import DecisionTreeClassifier\n",
    "from sklearn.ensemble import RandomForestClassifier\n",
    "dt = DecisionTreeClassifier()\n",
    "dt.fit(x_train,y_train)\n",
    "print(\"decision tree score: \", dt.score(x_test,y_test))"
   ]
  },
  {
   "cell_type": "code",
   "execution_count": 33,
   "id": "9a8581a7",
   "metadata": {},
   "outputs": [
    {
     "name": "stdout",
     "output_type": "stream",
     "text": [
      "10 random forest algo result:  0.9534883720930233\n",
      "11 random forest algo result:  0.9534883720930233\n",
      "12 random forest algo result:  0.9534883720930233\n",
      "13 random forest algo result:  0.9534883720930233\n",
      "14 random forest algo result:  0.9534883720930233\n",
      "15 random forest algo result:  0.9534883720930233\n",
      "16 random forest algo result:  0.9534883720930233\n",
      "17 random forest algo result:  0.9534883720930233\n",
      "18 random forest algo result:  0.9534883720930233\n",
      "19 random forest algo result:  0.9534883720930233\n",
      "20 random forest algo result:  0.9534883720930233\n",
      "21 random forest algo result:  0.9534883720930233\n",
      "22 random forest algo result:  0.9534883720930233\n",
      "23 random forest algo result:  0.9534883720930233\n",
      "24 random forest algo result:  0.9534883720930233\n",
      "25 random forest algo result:  0.9534883720930233\n",
      "26 random forest algo result:  0.9534883720930233\n",
      "27 random forest algo result:  0.9534883720930233\n",
      "28 random forest algo result:  0.9534883720930233\n",
      "29 random forest algo result:  0.9534883720930233\n",
      "30 random forest algo result:  0.9534883720930233\n",
      "31 random forest algo result:  0.9534883720930233\n",
      "32 random forest algo result:  0.9534883720930233\n",
      "33 random forest algo result:  0.9534883720930233\n",
      "34 random forest algo result:  0.9534883720930233\n",
      "35 random forest algo result:  0.9534883720930233\n",
      "36 random forest algo result:  0.9534883720930233\n",
      "37 random forest algo result:  0.9534883720930233\n",
      "38 random forest algo result:  0.9534883720930233\n",
      "39 random forest algo result:  0.9534883720930233\n",
      "40 random forest algo result:  0.9534883720930233\n",
      "41 random forest algo result:  0.9534883720930233\n",
      "42 random forest algo result:  0.9534883720930233\n",
      "43 random forest algo result:  0.9651162790697675\n",
      "44 random forest algo result:  0.9651162790697675\n",
      "45 random forest algo result:  0.9651162790697675\n",
      "46 random forest algo result:  0.9651162790697675\n",
      "47 random forest algo result:  0.9651162790697675\n",
      "48 random forest algo result:  0.9651162790697675\n",
      "49 random forest algo result:  0.9651162790697675\n",
      "50 random forest algo result:  0.9651162790697675\n",
      "51 random forest algo result:  0.9651162790697675\n",
      "52 random forest algo result:  0.9651162790697675\n",
      "53 random forest algo result:  0.9651162790697675\n",
      "54 random forest algo result:  0.9651162790697675\n",
      "55 random forest algo result:  0.9651162790697675\n",
      "56 random forest algo result:  0.9651162790697675\n",
      "57 random forest algo result:  0.9651162790697675\n",
      "58 random forest algo result:  0.9651162790697675\n",
      "59 random forest algo result:  0.9651162790697675\n",
      "60 random forest algo result:  0.9534883720930233\n",
      "61 random forest algo result:  0.9534883720930233\n",
      "62 random forest algo result:  0.9534883720930233\n",
      "63 random forest algo result:  0.9534883720930233\n",
      "64 random forest algo result:  0.9534883720930233\n",
      "65 random forest algo result:  0.9534883720930233\n",
      "66 random forest algo result:  0.9534883720930233\n",
      "67 random forest algo result:  0.9534883720930233\n",
      "68 random forest algo result:  0.9534883720930233\n",
      "69 random forest algo result:  0.9534883720930233\n",
      "70 random forest algo result:  0.9534883720930233\n",
      "71 random forest algo result:  0.9534883720930233\n",
      "72 random forest algo result:  0.9534883720930233\n",
      "73 random forest algo result:  0.9534883720930233\n",
      "74 random forest algo result:  0.9534883720930233\n",
      "75 random forest algo result:  0.9534883720930233\n",
      "76 random forest algo result:  0.9534883720930233\n",
      "77 random forest algo result:  0.9534883720930233\n",
      "78 random forest algo result:  0.9534883720930233\n",
      "79 random forest algo result:  0.9534883720930233\n",
      "80 random forest algo result:  0.9534883720930233\n",
      "81 random forest algo result:  0.9534883720930233\n",
      "82 random forest algo result:  0.9534883720930233\n",
      "83 random forest algo result:  0.9534883720930233\n",
      "84 random forest algo result:  0.9534883720930233\n",
      "85 random forest algo result:  0.9534883720930233\n",
      "86 random forest algo result:  0.9534883720930233\n",
      "87 random forest algo result:  0.9534883720930233\n",
      "88 random forest algo result:  0.9534883720930233\n",
      "89 random forest algo result:  0.9534883720930233\n",
      "90 random forest algo result:  0.9534883720930233\n",
      "91 random forest algo result:  0.9534883720930233\n",
      "92 random forest algo result:  0.9534883720930233\n",
      "93 random forest algo result:  0.9534883720930233\n",
      "94 random forest algo result:  0.9534883720930233\n",
      "95 random forest algo result:  0.9534883720930233\n",
      "96 random forest algo result:  0.9534883720930233\n",
      "97 random forest algo result:  0.9534883720930233\n",
      "98 random forest algo result:  0.9534883720930233\n",
      "99 random forest algo result:  0.9534883720930233\n",
      "100 random forest algo result:  0.9534883720930233\n"
     ]
    }
   ],
   "source": [
    "#%%  random forest\n",
    "for i in range(10,101):\n",
    "\n",
    "    rf = RandomForestClassifier(n_estimators = i,random_state = 1,criterion='entropy')\n",
    "    rf.fit(x_train,y_train)\n",
    "    print(\"{} random forest algo result: \".format(i),rf.score(x_test,y_test))"
   ]
  },
  {
   "cell_type": "code",
   "execution_count": 36,
   "id": "49ca3821",
   "metadata": {},
   "outputs": [],
   "source": [
    "y_pred= rf.predict(x_test)  "
   ]
  },
  {
   "cell_type": "code",
   "execution_count": 38,
   "id": "4434bffd",
   "metadata": {},
   "outputs": [
    {
     "data": {
      "image/png": "[encoded data removed]",
      "text/plain": [
       "<Figure size 360x360 with 2 Axes>"
      ]
     },
     "metadata": {
      "needs_background": "light"
     },
     "output_type": "display_data"
    }
   ],
   "source": [
    "#confusion matrix\n",
    "from sklearn.metrics import confusion_matrix\n",
    "cm = confusion_matrix(y_test,y_pred)\n",
    "\n",
    "\n",
    "#cm visualization\n",
    "import seaborn as sns\n",
    "import matplotlib.pyplot as plt\n",
    "\n",
    "f, ax = plt.subplots(figsize =(5,5))\n",
    "sns.heatmap(cm,annot = True,linewidths=0.5,linecolor=\"red\",fmt = \".0f\",ax=ax)\n",
    "plt.xlabel(\"y_pred\")\n",
    "plt.ylabel(\"y_test\")\n",
    "plt.show()"
   ]
  },
  {
   "cell_type": "code",
   "execution_count": null,
   "id": "f6500ed8",
   "metadata": {},
   "outputs": [],
   "source": []
  }
 ],
 "metadata": {
  "kernelspec": {
   "display_name": "Python 3 (ipykernel)",
   "language": "python",
   "name": "python3"
  },
  "language_info": {
   "codemirror_mode": {
    "name": "ipython",
    "version": 3
   },
   "file_extension": ".py",
   "mimetype": "text/x-python",
   "name": "python",
   "nbconvert_exporter": "python",
   "pygments_lexer": "ipython3",
   "version": "3.8.8"
  }
 },
 "nbformat": 4,
 "nbformat_minor": 5
}
